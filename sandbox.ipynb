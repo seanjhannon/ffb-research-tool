{
 "cells": [
  {
   "cell_type": "code",
   "execution_count": 8,
   "metadata": {},
   "outputs": [],
   "source": [
    "import nfl_data_py as nfl\n",
    "import pandas as pd\n",
    "from scoring import ScoringFormat, StandardScoringFormat"
   ]
  },
  {
   "cell_type": "code",
   "execution_count": 2,
   "metadata": {},
   "outputs": [],
   "source": [
    "format = StandardScoringFormat()"
   ]
  },
  {
   "cell_type": "code",
   "execution_count": null,
   "metadata": {},
   "outputs": [],
   "source": [
    "format.r"
   ]
  },
  {
   "cell_type": "markdown",
   "metadata": {},
   "source": []
  },
  {
   "cell_type": "code",
   "execution_count": 3,
   "metadata": {},
   "outputs": [
    {
     "name": "stdout",
     "output_type": "stream",
     "text": [
      "Downcasting floats.\n"
     ]
    },
    {
     "data": {
      "text/html": [
       "<div>\n",
       "<style scoped>\n",
       "    .dataframe tbody tr th:only-of-type {\n",
       "        vertical-align: middle;\n",
       "    }\n",
       "\n",
       "    .dataframe tbody tr th {\n",
       "        vertical-align: top;\n",
       "    }\n",
       "\n",
       "    .dataframe thead th {\n",
       "        text-align: right;\n",
       "    }\n",
       "</style>\n",
       "<table border=\"1\" class=\"dataframe\">\n",
       "  <thead>\n",
       "    <tr style=\"text-align: right;\">\n",
       "      <th></th>\n",
       "      <th>player_id</th>\n",
       "      <th>player_name</th>\n",
       "      <th>player_display_name</th>\n",
       "      <th>position</th>\n",
       "      <th>position_group</th>\n",
       "      <th>headshot_url</th>\n",
       "      <th>recent_team</th>\n",
       "      <th>season</th>\n",
       "      <th>week</th>\n",
       "      <th>season_type</th>\n",
       "      <th>...</th>\n",
       "      <th>receiving_first_downs</th>\n",
       "      <th>receiving_epa</th>\n",
       "      <th>receiving_2pt_conversions</th>\n",
       "      <th>racr</th>\n",
       "      <th>target_share</th>\n",
       "      <th>air_yards_share</th>\n",
       "      <th>wopr</th>\n",
       "      <th>special_teams_tds</th>\n",
       "      <th>fantasy_points</th>\n",
       "      <th>fantasy_points_ppr</th>\n",
       "    </tr>\n",
       "  </thead>\n",
       "  <tbody>\n",
       "    <tr>\n",
       "      <th>0</th>\n",
       "      <td>00-0023459</td>\n",
       "      <td>A.Rodgers</td>\n",
       "      <td>Aaron Rodgers</td>\n",
       "      <td>QB</td>\n",
       "      <td>QB</td>\n",
       "      <td>https://static.www.nfl.com/image/upload/f_auto...</td>\n",
       "      <td>NYJ</td>\n",
       "      <td>2024</td>\n",
       "      <td>1</td>\n",
       "      <td>REG</td>\n",
       "      <td>...</td>\n",
       "      <td>0.0</td>\n",
       "      <td>NaN</td>\n",
       "      <td>0</td>\n",
       "      <td>NaN</td>\n",
       "      <td>NaN</td>\n",
       "      <td>NaN</td>\n",
       "      <td>NaN</td>\n",
       "      <td>0.0</td>\n",
       "      <td>8.580000</td>\n",
       "      <td>8.580000</td>\n",
       "    </tr>\n",
       "    <tr>\n",
       "      <th>1</th>\n",
       "      <td>00-0023459</td>\n",
       "      <td>A.Rodgers</td>\n",
       "      <td>Aaron Rodgers</td>\n",
       "      <td>QB</td>\n",
       "      <td>QB</td>\n",
       "      <td>https://static.www.nfl.com/image/upload/f_auto...</td>\n",
       "      <td>NYJ</td>\n",
       "      <td>2024</td>\n",
       "      <td>2</td>\n",
       "      <td>REG</td>\n",
       "      <td>...</td>\n",
       "      <td>0.0</td>\n",
       "      <td>NaN</td>\n",
       "      <td>0</td>\n",
       "      <td>NaN</td>\n",
       "      <td>NaN</td>\n",
       "      <td>NaN</td>\n",
       "      <td>NaN</td>\n",
       "      <td>0.0</td>\n",
       "      <td>15.140000</td>\n",
       "      <td>15.140000</td>\n",
       "    </tr>\n",
       "    <tr>\n",
       "      <th>2</th>\n",
       "      <td>00-0023459</td>\n",
       "      <td>A.Rodgers</td>\n",
       "      <td>Aaron Rodgers</td>\n",
       "      <td>QB</td>\n",
       "      <td>QB</td>\n",
       "      <td>https://static.www.nfl.com/image/upload/f_auto...</td>\n",
       "      <td>NYJ</td>\n",
       "      <td>2024</td>\n",
       "      <td>3</td>\n",
       "      <td>REG</td>\n",
       "      <td>...</td>\n",
       "      <td>0.0</td>\n",
       "      <td>NaN</td>\n",
       "      <td>0</td>\n",
       "      <td>NaN</td>\n",
       "      <td>NaN</td>\n",
       "      <td>NaN</td>\n",
       "      <td>NaN</td>\n",
       "      <td>0.0</td>\n",
       "      <td>21.040001</td>\n",
       "      <td>21.040001</td>\n",
       "    </tr>\n",
       "    <tr>\n",
       "      <th>3</th>\n",
       "      <td>00-0023459</td>\n",
       "      <td>A.Rodgers</td>\n",
       "      <td>Aaron Rodgers</td>\n",
       "      <td>QB</td>\n",
       "      <td>QB</td>\n",
       "      <td>https://static.www.nfl.com/image/upload/f_auto...</td>\n",
       "      <td>NYJ</td>\n",
       "      <td>2024</td>\n",
       "      <td>4</td>\n",
       "      <td>REG</td>\n",
       "      <td>...</td>\n",
       "      <td>0.0</td>\n",
       "      <td>NaN</td>\n",
       "      <td>0</td>\n",
       "      <td>NaN</td>\n",
       "      <td>NaN</td>\n",
       "      <td>NaN</td>\n",
       "      <td>NaN</td>\n",
       "      <td>0.0</td>\n",
       "      <td>11.600000</td>\n",
       "      <td>11.600000</td>\n",
       "    </tr>\n",
       "    <tr>\n",
       "      <th>4</th>\n",
       "      <td>00-0023459</td>\n",
       "      <td>A.Rodgers</td>\n",
       "      <td>Aaron Rodgers</td>\n",
       "      <td>QB</td>\n",
       "      <td>QB</td>\n",
       "      <td>https://static.www.nfl.com/image/upload/f_auto...</td>\n",
       "      <td>NYJ</td>\n",
       "      <td>2024</td>\n",
       "      <td>5</td>\n",
       "      <td>REG</td>\n",
       "      <td>...</td>\n",
       "      <td>0.0</td>\n",
       "      <td>NaN</td>\n",
       "      <td>0</td>\n",
       "      <td>NaN</td>\n",
       "      <td>NaN</td>\n",
       "      <td>NaN</td>\n",
       "      <td>NaN</td>\n",
       "      <td>0.0</td>\n",
       "      <td>11.760000</td>\n",
       "      <td>11.760000</td>\n",
       "    </tr>\n",
       "  </tbody>\n",
       "</table>\n",
       "<p>5 rows × 53 columns</p>\n",
       "</div>"
      ],
      "text/plain": [
       "    player_id player_name player_display_name position position_group  \\\n",
       "0  00-0023459   A.Rodgers       Aaron Rodgers       QB             QB   \n",
       "1  00-0023459   A.Rodgers       Aaron Rodgers       QB             QB   \n",
       "2  00-0023459   A.Rodgers       Aaron Rodgers       QB             QB   \n",
       "3  00-0023459   A.Rodgers       Aaron Rodgers       QB             QB   \n",
       "4  00-0023459   A.Rodgers       Aaron Rodgers       QB             QB   \n",
       "\n",
       "                                        headshot_url recent_team  season  \\\n",
       "0  https://static.www.nfl.com/image/upload/f_auto...         NYJ    2024   \n",
       "1  https://static.www.nfl.com/image/upload/f_auto...         NYJ    2024   \n",
       "2  https://static.www.nfl.com/image/upload/f_auto...         NYJ    2024   \n",
       "3  https://static.www.nfl.com/image/upload/f_auto...         NYJ    2024   \n",
       "4  https://static.www.nfl.com/image/upload/f_auto...         NYJ    2024   \n",
       "\n",
       "   week season_type  ... receiving_first_downs  receiving_epa  \\\n",
       "0     1         REG  ...                   0.0            NaN   \n",
       "1     2         REG  ...                   0.0            NaN   \n",
       "2     3         REG  ...                   0.0            NaN   \n",
       "3     4         REG  ...                   0.0            NaN   \n",
       "4     5         REG  ...                   0.0            NaN   \n",
       "\n",
       "   receiving_2pt_conversions  racr  target_share  air_yards_share  wopr  \\\n",
       "0                          0   NaN           NaN              NaN   NaN   \n",
       "1                          0   NaN           NaN              NaN   NaN   \n",
       "2                          0   NaN           NaN              NaN   NaN   \n",
       "3                          0   NaN           NaN              NaN   NaN   \n",
       "4                          0   NaN           NaN              NaN   NaN   \n",
       "\n",
       "   special_teams_tds  fantasy_points  fantasy_points_ppr  \n",
       "0                0.0        8.580000            8.580000  \n",
       "1                0.0       15.140000           15.140000  \n",
       "2                0.0       21.040001           21.040001  \n",
       "3                0.0       11.600000           11.600000  \n",
       "4                0.0       11.760000           11.760000  \n",
       "\n",
       "[5 rows x 53 columns]"
      ]
     },
     "execution_count": 3,
     "metadata": {},
     "output_type": "execute_result"
    }
   ],
   "source": [
    "test_data = nfl.import_weekly_data([2024])\n",
    "test_data.head(5)"
   ]
  },
  {
   "cell_type": "code",
   "execution_count": 4,
   "metadata": {},
   "outputs": [],
   "source": [
    "arod_data = test_data.query('player_display_name == \"Aaron Rodgers\"')"
   ]
  },
  {
   "cell_type": "code",
   "execution_count": 5,
   "metadata": {},
   "outputs": [],
   "source": [
    "# Dict of {column_name: attr_name} for use with the nfl-data-py library\n",
    "stat_mapping_nfl_py = {\n",
    "    #PASSING\n",
    "    'passing_yards' : 'pass_yards_value',\n",
    "    'passing_tds' : 'pass_tds_value',\n",
    "    'interceptions' : 'pass_ints_value',\n",
    "    #RUSHING\n",
    "    'rushing_yards' : 'rush_yards_value',\n",
    "    'rushing_tds': 'rush_tds_value',\n",
    "    #RECEIVING\n",
    "    'receptions' : 'receptions_value',\n",
    "    'receiving_yards' : 'rec_yards_value',\n",
    "    'receiving_tds' : 'rec_tds_value',\n",
    "    #MISC\n",
    "    'sack_fumbles_lost' : 'fumble_lost_value', # This data source distinguishes between different kinds of fumbles\n",
    "    'rushing_fumbles_lost' : 'fumble_lost_value',\n",
    "    'receiving_fumbles_lost' : 'fumble_lost_value',\n",
    "    'passing_2pt_conversions' : 'two_point_conversions_value', # Same for 2pt conversions\n",
    "    'rushing_2pt_conversions' : 'two_point_conversions_value',\n",
    "    'receiving_2pt_conversions' : 'two_point_conversions_value',    \n",
    "}"
   ]
  },
  {
   "cell_type": "code",
   "execution_count": 6,
   "metadata": {},
   "outputs": [
    {
     "data": {
      "text/plain": [
       "pandas.core.series.Series"
      ]
     },
     "execution_count": 6,
     "metadata": {},
     "output_type": "execute_result"
    }
   ],
   "source": [
    "type(arod_data.loc[0])"
   ]
  },
  {
   "cell_type": "code",
   "execution_count": 12,
   "metadata": {},
   "outputs": [],
   "source": [
    "def calculate_fantasy_points(\n",
    "    stats_row: pd.Series, \n",
    "    scoring_format: ScoringFormat, \n",
    "    stat_mapping:dict, \n",
    "    debug=False) -> float:\n",
    "    \"\"\"Calculates the total points scored by one row of stats. \"\"\"\n",
    "    total_points = 0.0\n",
    "    for column, scoring_attribute in stat_mapping.items():\n",
    "        if column in stats_row and hasattr(scoring_format, scoring_attribute):\n",
    "            total_points += stats_row[column] * getattr(scoring_format, scoring_attribute)\n",
    "            if debug == True:\n",
    "                print(f\"{column} : {stats_row[column]}, {scoring_attribute} : {getattr(scoring_format, scoring_attribute)}\")\n",
    "    return total_points\n",
    "    "
   ]
  },
  {
   "cell_type": "code",
   "execution_count": 18,
   "metadata": {},
   "outputs": [],
   "source": [
    "def calculate_fantasy_points_by_category(\n",
    "    stats_row: pd.Series, \n",
    "    scoring_format: ScoringFormat, \n",
    "    stat_mapping:dict, \n",
    "    debug=False) -> dict:\n",
    "    \"\"\"Calculates the total points scored by one row of stats, returning a dict mapping each scoring category to its respective points. \"\"\"\n",
    "    points_by_category = {}\n",
    "    for column, scoring_attribute in stat_mapping.items():\n",
    "        if column in stats_row and hasattr(scoring_format, scoring_attribute):\n",
    "            points_by_category[scoring_attribute] =  stats_row[column] * getattr(scoring_format, scoring_attribute)\n",
    "            if debug == True:\n",
    "                print(f\"{column} : {stats_row[column]}, {scoring_attribute} : {getattr(scoring_format, scoring_attribute)}\")\n",
    "    return points_by_category"
   ]
  },
  {
   "cell_type": "code",
   "execution_count": 19,
   "metadata": {},
   "outputs": [
    {
     "data": {
      "text/plain": [
       "{'pass_yards_value': 6.68,\n",
       " 'pass_tds_value': 4,\n",
       " 'pass_ints_value': -2.0,\n",
       " 'rush_yards_value': -0.1,\n",
       " 'rush_tds_value': 0,\n",
       " 'receptions_value': 0,\n",
       " 'rec_yards_value': 0.0,\n",
       " 'rec_tds_value': 0,\n",
       " 'fumble_lost_value': -0.0,\n",
       " 'two_point_conversions_value': 0}"
      ]
     },
     "execution_count": 19,
     "metadata": {},
     "output_type": "execute_result"
    }
   ],
   "source": [
    "calculate_fantasy_points_by_category(arod_data.loc[0], StandardScoringFormat(), stat_mapping_nfl_py, debug=False)"
   ]
  },
  {
   "cell_type": "code",
   "execution_count": 20,
   "metadata": {},
   "outputs": [
    {
     "data": {
      "text/plain": [
       "8.58"
      ]
     },
     "execution_count": 20,
     "metadata": {},
     "output_type": "execute_result"
    }
   ],
   "source": [
    "calculate_fantasy_points(arod_data.loc[0], StandardScoringFormat(), stat_mapping_nfl_py, debug=False)"
   ]
  },
  {
   "cell_type": "code",
   "execution_count": null,
   "metadata": {},
   "outputs": [],
   "source": [
    "arod_data.loc[0]['rushing_yards']"
   ]
  },
  {
   "cell_type": "code",
   "execution_count": null,
   "metadata": {},
   "outputs": [],
   "source": []
  }
 ],
 "metadata": {
  "kernelspec": {
   "display_name": "Python 3",
   "language": "python",
   "name": "python3"
  },
  "language_info": {
   "codemirror_mode": {
    "name": "ipython",
    "version": 3
   },
   "file_extension": ".py",
   "mimetype": "text/x-python",
   "name": "python",
   "nbconvert_exporter": "python",
   "pygments_lexer": "ipython3",
   "version": "3.10.16"
  }
 },
 "nbformat": 4,
 "nbformat_minor": 2
}
