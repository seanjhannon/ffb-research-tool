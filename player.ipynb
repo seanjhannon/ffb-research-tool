{
 "cells": [
  {
   "cell_type": "code",
   "execution_count": null,
   "metadata": {},
   "outputs": [],
   "source": [
    "class SeasonStats:\n",
    "    \"\"\" Holds one season's stats for one player \"\"\"\n",
    "\n",
    "    def __init__(self, player_id:str, year:int):\n",
    "        self.player_id = player_i\n",
    "        self.year = year\n",
    "        self.weekly_log = {\n",
    "            1: {},\n",
    "            2: {},\n",
    "            3: {},\n",
    "            \n",
    "        }\n",
    "        \n",
    "\n",
    "    "
   ]
  },
  {
   "cell_type": "code",
   "execution_count": null,
   "metadata": {},
   "outputs": [],
   "source": [
    "class WeeklyStats:\n",
    "    \"\"\" Holds the weekly stats for a player. \"\"\"\n",
    "    def __init__(self, player_id:str, year: int, week_number:int):\n",
    "        self.player_id = player_id\n",
    "        self.year = year\n",
    "        self.week_number = week_number \n",
    "    "
   ]
  },
  {
   "cell_type": "code",
   "execution_count": null,
   "metadata": {},
   "outputs": [],
   "source": [
    "class WeeklyFantasyStats(WeeklyStats):\n",
    "    \"\"\" Holds the weekly stats that count for fantasy scoring. \"\"\"\n",
    "    \n",
    "    def __init__(self, player_id:str, year: int, week_number:int,\n",
    "    pass_yards:int,\n",
    "    pass_tds:int,\n",
    "    pass_ints:int,\n",
    "    rush_yds:int,\n",
    "    rush_tds:int,\n",
    "    receptions:int,\n",
    "    rec_yds:int,\n",
    "    rec_tds:int,\n",
    "    two_point_conversions:int,\n",
    "    fumble_recovery_td:int,\n",
    "    fumble_lost:int,\n",
    "\n",
    "    )"
   ]
  },
  {
   "cell_type": "code",
   "execution_count": null,
   "metadata": {},
   "outputs": [],
   "source": [
    "class ScoringFormat:\n",
    "    \"\"\" Stores a set of scoring rules. \"\"\"\n",
    "    def __init__(self, \n",
    "    pass_yards_value:int,\n",
    "    pass_tds_value:int,\n",
    "    pass_ints_value:int,\n",
    "    rush_yds_value:int,\n",
    "    rush_tds_value:int,\n",
    "    receptions_value:int,\n",
    "    rec_yds_value:int,\n",
    "    rec_tds_value:int,\n",
    "    two_point_conversions_value:int,\n",
    "    fumble_recovery_td_value:int,\n",
    "    fumble_lost_value:int,\n",
    "    ,name=None):\n",
    "    self.pass_yards_value =  pass_yards_value                                                 \n",
    "    self.pass_tds_value =pass_tds_value\n",
    "    self.pass_ints_value =pass_ints_value\n",
    "    self.rush_yds_value =rush_yds_value\n",
    "    self.rush_tds_value =  rush_tds_value                 \n",
    "    self.receptions_value = receptions_value                    \n",
    "    self.rec_yds_value = rec_yds_value\n",
    "    self.rec_tds_value = rec_tds_value\n",
    "    self.two_point_conversions_value = two_point_conversions_value\n",
    "    self.fumble_recovery_td_value = fumble_recovery_td_value\n",
    "    self.fumble_lost_value = fumble_lost_value            "
   ]
  },
  {
   "cell_type": "code",
   "execution_count": 14,
   "metadata": {},
   "outputs": [],
   "source": [
    "class Player:\n",
    "    \n",
    "    def __init__(self, player_id:str, player_name:str, player_team:str):\n",
    "        self.id = player_id\n",
    "        self.name = player_name\n",
    "        self.team = player_team\n",
    "\n",
    "    def get_name(self) -> str:\n",
    "        return self.name\n"
   ]
  },
  {
   "cell_type": "code",
   "execution_count": 15,
   "metadata": {},
   "outputs": [
    {
     "data": {
      "text/plain": [
       "'Tom Brady'"
      ]
     },
     "execution_count": 15,
     "metadata": {},
     "output_type": "execute_result"
    }
   ],
   "source": [
    "tb12 = Player(player_id=\"123\", player_name=\"Tom Brady\", player_team = \"Pats\")\n",
    "tb12.get_name()"
   ]
  },
  {
   "cell_type": "code",
   "execution_count": 23,
   "metadata": {},
   "outputs": [],
   "source": [
    "class RunningBack(Player):\n",
    "    \n",
    "    def __init__(self, player_id:str, player_name:str, player_team:str):\n",
    "        super().__init__(player_id, player_name, player_team)\n",
    "        self.rush_yds = 0\n",
    "        self.rec_yds = 0\n",
    "        self.rush_tds = 0\n",
    "        self.rec_tds = 0\n",
    "        \n",
    "    def get_rush_yds(self):\n",
    "        return self.rush_yds\n",
    "    \n",
    "    def add_rush_yds(self, yds):\n",
    "        self.rush_yds += yds"
   ]
  },
  {
   "cell_type": "code",
   "execution_count": 24,
   "metadata": {},
   "outputs": [],
   "source": [
    "king_henry = RunningBack(\n",
    "    player_id=\"1234\", player_name = \"D Henry\", player_team = \"Ravens\"\n",
    ")"
   ]
  },
  {
   "cell_type": "code",
   "execution_count": 25,
   "metadata": {},
   "outputs": [
    {
     "data": {
      "text/plain": [
       "0"
      ]
     },
     "execution_count": 25,
     "metadata": {},
     "output_type": "execute_result"
    }
   ],
   "source": [
    "king_henry.get_rush_yds()"
   ]
  },
  {
   "cell_type": "code",
   "execution_count": 26,
   "metadata": {},
   "outputs": [],
   "source": [
    "king_henry.add_rush_yds(10)"
   ]
  },
  {
   "cell_type": "code",
   "execution_count": 27,
   "metadata": {},
   "outputs": [
    {
     "data": {
      "text/plain": [
       "10"
      ]
     },
     "execution_count": 27,
     "metadata": {},
     "output_type": "execute_result"
    }
   ],
   "source": [
    "king_henry.get_rush_yds()"
   ]
  },
  {
   "cell_type": "code",
   "execution_count": null,
   "metadata": {},
   "outputs": [],
   "source": []
  }
 ],
 "metadata": {
  "kernelspec": {
   "display_name": "Python 3",
   "language": "python",
   "name": "python3"
  },
  "language_info": {
   "codemirror_mode": {
    "name": "ipython",
    "version": 3
   },
   "file_extension": ".py",
   "mimetype": "text/x-python",
   "name": "python",
   "nbconvert_exporter": "python",
   "pygments_lexer": "ipython3",
   "version": "3.9.7"
  }
 },
 "nbformat": 4,
 "nbformat_minor": 2
}
